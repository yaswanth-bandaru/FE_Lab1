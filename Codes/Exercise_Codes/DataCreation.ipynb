{
 "cells": [
  {
   "cell_type": "code",
   "execution_count": 1,
   "metadata": {},
   "outputs": [],
   "source": [
    "# importing libraries\n",
    "\n",
    "from GoogleNews import GoogleNews\n",
    "from newspaper import Article\n",
    "from newspaper import Config\n",
    "import pandas as pd\n",
    "import nltk"
   ]
  },
  {
   "cell_type": "code",
   "execution_count": 2,
   "metadata": {},
   "outputs": [],
   "source": [
    "# configuring browser\n",
    "\n",
    "user_agent = 'Mozilla/5.0 (Macintosh; Intel Mac OS X 10_11_5) AppleWebKit/537.36 (KHTML, like Gecko) Chrome/50.0.2661.102 Safari/537.36'\n",
    "config = Config()\n",
    "config.browser_user_agent = user_agent"
   ]
  },
  {
   "cell_type": "code",
   "execution_count": 3,
   "metadata": {},
   "outputs": [],
   "source": [
    "# searching the autonomous articles\n",
    "\n",
    "googlenews=GoogleNews(start='01/01/2010',end='04/09/2021')\n",
    "googlenews.search('Autonomous Cars')\n",
    "result=googlenews.result()\n",
    "df=pd.DataFrame(result)"
   ]
  },
  {
   "cell_type": "code",
   "execution_count": 4,
   "metadata": {},
   "outputs": [],
   "source": [
    "# fetching the articles \n",
    "\n",
    "for i in range(2,29):\n",
    "    googlenews.getpage(i)\n",
    "    result=googlenews.result()\n",
    "    df=pd.DataFrame(result)"
   ]
  },
  {
   "cell_type": "code",
   "execution_count": 43,
   "metadata": {},
   "outputs": [],
   "source": [
    "# removing unavaialble articles\n",
    "update_df = df.drop([42,112,187,200,228])"
   ]
  },
  {
   "cell_type": "code",
   "execution_count": 46,
   "metadata": {},
   "outputs": [],
   "source": [
    "# getting the full article and storing in excel\n",
    "lst = []\n",
    "for ind in update_df.index:\n",
    "    d={}\n",
    "    article = Article(update_df['link'][ind],config=config)\n",
    "    article.download()\n",
    "    article.parse()\n",
    "    article.nlp()\n",
    "    d['Date']=update_df['date'][ind]\n",
    "    d['Media']=update_df['media'][ind]\n",
    "    d['Title']=article.title\n",
    "    d['Article']=article.text\n",
    "    d['Summary']=article.summary\n",
    "    lst.append(d)\n",
    "news_df=pd.DataFrame(lst)\n",
    "news_df.to_excel(\"articles.xlsx\")"
   ]
  },
  {
   "cell_type": "code",
   "execution_count": 48,
   "metadata": {},
   "outputs": [],
   "source": [
    "# reading bbc dataset\n",
    "\n",
    "df_bbc = pd.read_csv('Y:\\\\Masters_Content\\\\Feature_Engineering\\\\Lab1\\\\Data\\\\News_dataset.csv', sep=';')"
   ]
  },
  {
   "cell_type": "code",
   "execution_count": 51,
   "metadata": {},
   "outputs": [],
   "source": [
    "# creating autonomous category\n",
    "news_df['Category'] = 'autonomous car'"
   ]
  },
  {
   "cell_type": "code",
   "execution_count": 53,
   "metadata": {},
   "outputs": [
    {
     "name": "stderr",
     "output_type": "stream",
     "text": [
      "C:\\Users\\yaswa\\anaconda3\\lib\\site-packages\\pandas\\core\\frame.py:4296: SettingWithCopyWarning: \n",
      "A value is trying to be set on a copy of a slice from a DataFrame\n",
      "\n",
      "See the caveats in the documentation: https://pandas.pydata.org/pandas-docs/stable/user_guide/indexing.html#returning-a-view-versus-a-copy\n",
      "  return super().rename(\n"
     ]
    }
   ],
   "source": [
    "# extracting the required columns and creating a new dataframe\n",
    "df_auto = news_df[['Article','Summary','Category']]\n",
    "df_auto.rename(columns = {'Article':'File_Name','Summary':'Content'},inplace = True)"
   ]
  },
  {
   "cell_type": "code",
   "execution_count": 56,
   "metadata": {},
   "outputs": [],
   "source": [
    "# removing tech articles\n",
    "df_bbc = df_bbc[df_bbc['Category'] != 'tech'].reset_index(drop = True)"
   ]
  },
  {
   "cell_type": "code",
   "execution_count": 71,
   "metadata": {},
   "outputs": [],
   "source": [
    "# concatenating bbc with autonomous articles\n",
    "frames = [df_auto,df_bbc]\n",
    "df_final_news = pd.DataFrame(pd.concat(frames,ignore_index = True))"
   ]
  },
  {
   "cell_type": "code",
   "execution_count": 73,
   "metadata": {},
   "outputs": [],
   "source": [
    "# saving the dataframe to csv\n",
    "df_final_news = df_final_news.to_csv('Y:\\\\Masters_Content\\\\Feature_Engineering\\\\Lab1\\\\Data\\dataset.csv')"
   ]
  }
 ],
 "metadata": {
  "kernelspec": {
   "display_name": "Python 3",
   "language": "python",
   "name": "python3"
  },
  "language_info": {
   "codemirror_mode": {
    "name": "ipython",
    "version": 3
   },
   "file_extension": ".py",
   "mimetype": "text/x-python",
   "name": "python",
   "nbconvert_exporter": "python",
   "pygments_lexer": "ipython3",
   "version": "3.8.5"
  }
 },
 "nbformat": 4,
 "nbformat_minor": 4
}
